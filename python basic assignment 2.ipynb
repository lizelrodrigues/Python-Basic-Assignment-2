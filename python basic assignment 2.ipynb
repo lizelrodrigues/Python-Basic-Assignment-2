{
 "cells": [
  {
   "cell_type": "code",
   "execution_count": null,
   "id": "5bea9ffc",
   "metadata": {},
   "outputs": [],
   "source": [
    "#Python Basic Assignment 2"
   ]
  },
  {
   "cell_type": "markdown",
   "id": "a9d46683",
   "metadata": {},
   "source": [
    "1.What are the two values of the Boolean data type? How do you write them?"
   ]
  },
  {
   "cell_type": "code",
   "execution_count": 2,
   "id": "b39a1606",
   "metadata": {},
   "outputs": [
    {
     "name": "stdout",
     "output_type": "stream",
     "text": [
      "<class 'bool'>\n",
      "<class 'bool'>\n"
     ]
    }
   ],
   "source": [
    "# The two values of boolean data type are True and False.\n",
    "p=True\n",
    "q = False\n",
    "print(type(p))\n",
    "print(type(q))"
   ]
  },
  {
   "cell_type": "markdown",
   "id": "d10d9c88",
   "metadata": {},
   "source": [
    "2.What are the three different types of Boolean operators?"
   ]
  },
  {
   "cell_type": "code",
   "execution_count": null,
   "id": "3f1411a4",
   "metadata": {},
   "outputs": [],
   "source": [
    "# The three different types of boolean operators in python are AND , OR , NOT."
   ]
  },
  {
   "cell_type": "markdown",
   "id": "0bdc4183",
   "metadata": {},
   "source": [
    "3.Make a list of each Boolean operator's truth tables (i.e. every possible combination of Boolean\n",
    "values for the operator and what it evaluate )."
   ]
  },
  {
   "cell_type": "code",
   "execution_count": 3,
   "id": "472a4004",
   "metadata": {},
   "outputs": [
    {
     "name": "stdout",
     "output_type": "stream",
     "text": [
      "True False False False\n"
     ]
    }
   ],
   "source": [
    "#    AND operator\n",
    "a = True and True \n",
    "b = True and False  \n",
    "c = False and True \n",
    "d = False and False \n",
    "print(a,b,c,d)"
   ]
  },
  {
   "cell_type": "code",
   "execution_count": 4,
   "id": "7f27f247",
   "metadata": {},
   "outputs": [
    {
     "name": "stdout",
     "output_type": "stream",
     "text": [
      "True True True False\n"
     ]
    }
   ],
   "source": [
    "#    OR operator\n",
    "a = True or True \n",
    "b = True or False \n",
    "c = False or True \n",
    "d = False or False \n",
    "print(a,b,c,d)"
   ]
  },
  {
   "cell_type": "code",
   "execution_count": 5,
   "id": "50beb5ca",
   "metadata": {},
   "outputs": [
    {
     "name": "stdout",
     "output_type": "stream",
     "text": [
      "False True\n"
     ]
    }
   ],
   "source": [
    "#    NOT operator\n",
    "a = not True\n",
    "b = not False\n",
    "print(a,b)"
   ]
  },
  {
   "cell_type": "markdown",
   "id": "6bedc6eb",
   "metadata": {},
   "source": [
    "4.What are the values of the following expressions?"
   ]
  },
  {
   "cell_type": "code",
   "execution_count": 6,
   "id": "1b7ce8e1",
   "metadata": {},
   "outputs": [
    {
     "name": "stdout",
     "output_type": "stream",
     "text": [
      "False False True False False True\n"
     ]
    }
   ],
   "source": [
    "a = (5 > 4) and (3 == 5)\n",
    "b = not (5 > 4)\n",
    "c = (5 > 4) or (3 == 5)\n",
    "d = not ((5 > 4) or (3 == 5))\n",
    "e = (True and True) and (True == False)\n",
    "f = (not False) or (not True)\n",
    "print(a,b,c,d,e,f)"
   ]
  },
  {
   "cell_type": "markdown",
   "id": "d2bd1e28",
   "metadata": {},
   "source": [
    "5.What are the six comparison operators?"
   ]
  },
  {
   "cell_type": "code",
   "execution_count": 7,
   "id": "b0b6adc8",
   "metadata": {},
   "outputs": [],
   "source": [
    "# The six comparison operators are:\n",
    "# 1) == (equal)\n",
    "# 2) != (not equal)\n",
    "# 3) <  (less than)\n",
    "# 4) >  (greater than)\n",
    "# 5) <= (lesser than equal)\n",
    "# 6) >= (greater than equal"
   ]
  },
  {
   "cell_type": "markdown",
   "id": "1ea49137",
   "metadata": {},
   "source": [
    "6.How do you tell the difference between the equal to and assignment operators?Describe a\n",
    "condition and when you would use one."
   ]
  },
  {
   "cell_type": "code",
   "execution_count": null,
   "id": "87e1958c",
   "metadata": {},
   "outputs": [],
   "source": [
    "# 1) Equal to operator: \n",
    "#    Equal to operator is written as \"==\". \n",
    "#    It checks whether the given two values are equal or not . \n",
    "#    If they are equal, it returns True and if they are not equal, it returns False.\n",
    "#    It is used to compare two values.eg. 7 == 7 .This is True and the value returned is 1.\n",
    "# 2) Assignment operator: \n",
    "#    Assignment operator is written as \"=\" . \n",
    "#    It is used to assign value to the variable. eg. a = 10."
   ]
  },
  {
   "cell_type": "markdown",
   "id": "23a4ac81",
   "metadata": {},
   "source": [
    "7.Identify the three blocks in this code:"
   ]
  },
  {
   "cell_type": "code",
   "execution_count": 8,
   "id": "38164ad8",
   "metadata": {},
   "outputs": [
    {
     "name": "stdout",
     "output_type": "stream",
     "text": [
      "ham\n",
      "spam\n",
      "spam\n"
     ]
    }
   ],
   "source": [
    "spam = 0\n",
    "if spam == 10:\n",
    "    print('eggs')\n",
    "if spam > 5:\n",
    "    print('bacon')\n",
    "else:\n",
    "    print('ham')\n",
    "    print('spam')\n",
    "    print('spam')\n",
    "    \n",
    "#     if, if and else are the three blocks in the given code."
   ]
  },
  {
   "cell_type": "markdown",
   "id": "c4fca2f0",
   "metadata": {},
   "source": [
    "8.Write code that prints Hello if 1 is stored in spam, prints Howdy if 2 is stored in spam, and prints\n",
    "Greetings! if anything else is stored in spam."
   ]
  },
  {
   "cell_type": "code",
   "execution_count": 9,
   "id": "0fda76f9",
   "metadata": {},
   "outputs": [
    {
     "name": "stdout",
     "output_type": "stream",
     "text": [
      "Greetings!\n"
     ]
    }
   ],
   "source": [
    "spam = 6\n",
    "if spam == 1:\n",
    "    print(\"Hello\")\n",
    "elif spam == 2:\n",
    "    print(\"Howdy\")\n",
    "else:\n",
    "    print(\"Greetings!\")"
   ]
  },
  {
   "cell_type": "markdown",
   "id": "81fb950f",
   "metadata": {},
   "source": [
    "9.If your programme is stuck in an endless loop, what keys you’ll press?"
   ]
  },
  {
   "cell_type": "code",
   "execution_count": null,
   "id": "9247a527",
   "metadata": {},
   "outputs": [],
   "source": [
    "# Ans: If programme is stuck in an endless loop , one can press CTRL + C keys to get out of the endless loop."
   ]
  },
  {
   "cell_type": "markdown",
   "id": "05e9fd79",
   "metadata": {},
   "source": [
    "10.How can you tell the difference between break and continue?"
   ]
  },
  {
   "cell_type": "code",
   "execution_count": null,
   "id": "8377bc5f",
   "metadata": {},
   "outputs": [],
   "source": [
    "# Break    - Break statement is used to stop the execution of remaining elements of the loop. \n",
    "#            It is used to exit or break the for-loop and while-loop in python.\n",
    "# Continue - Continue statement does not print the current iteration of the loop .\n",
    "#            It will pass the control of the program to next iteration by skipping the current iteration."
   ]
  },
  {
   "cell_type": "markdown",
   "id": "2b4e421c",
   "metadata": {},
   "source": [
    "11.In a for loop, what is the difference between range(10), range(0, 10), and range(0, 10, 1)?"
   ]
  },
  {
   "cell_type": "code",
   "execution_count": null,
   "id": "084bace1",
   "metadata": {},
   "outputs": [],
   "source": [
    "# In for-loop, the output of range(10), range(0,10),range(0,10,1) are the same with no difference.\n",
    "# The output of this three function is 0-9.\n",
    "# In range(10), it includes range of first 10 numbers (i.e from 0 to 9), in range(0,10) it starts from first no. 0 to 9 \n",
    "#    it excludes last number.\n",
    "# In range(0,10,1) output is 0 to 9 and 1 is the step size."
   ]
  },
  {
   "cell_type": "markdown",
   "id": "bda33878",
   "metadata": {},
   "source": [
    "12.Write a short program that prints the numbers 1 to 10 using a for loop. Then write an equivalent\n",
    "program that prints the numbers 1 to 10 using a while loop."
   ]
  },
  {
   "cell_type": "code",
   "execution_count": 12,
   "id": "9975b985",
   "metadata": {},
   "outputs": [
    {
     "name": "stdout",
     "output_type": "stream",
     "text": [
      "1 2 3 4 5 6 7 8 9 10 "
     ]
    }
   ],
   "source": [
    "# using for-loop\n",
    "for i in range(1,11):\n",
    "    print(i,end=\" \")"
   ]
  },
  {
   "cell_type": "code",
   "execution_count": 13,
   "id": "0a3b8029",
   "metadata": {},
   "outputs": [
    {
     "name": "stdout",
     "output_type": "stream",
     "text": [
      "1 2 3 4 5 6 7 8 9 10 "
     ]
    }
   ],
   "source": [
    "# using while-loop\n",
    "i = 1\n",
    "while i < 11:\n",
    "    print(i,end = \" \")\n",
    "    i = i +1"
   ]
  },
  {
   "cell_type": "markdown",
   "id": "e3849411",
   "metadata": {},
   "source": [
    "13.If you had a function named bacon() inside a module named spam, how would you call it after\n",
    "importing spam?"
   ]
  },
  {
   "cell_type": "code",
   "execution_count": null,
   "id": "33ff50ad",
   "metadata": {},
   "outputs": [],
   "source": [
    "#  After importing spam we can call this function as spam.bacon()"
   ]
  }
 ],
 "metadata": {
  "kernelspec": {
   "display_name": "Python 3 (ipykernel)",
   "language": "python",
   "name": "python3"
  },
  "language_info": {
   "codemirror_mode": {
    "name": "ipython",
    "version": 3
   },
   "file_extension": ".py",
   "mimetype": "text/x-python",
   "name": "python",
   "nbconvert_exporter": "python",
   "pygments_lexer": "ipython3",
   "version": "3.9.7"
  }
 },
 "nbformat": 4,
 "nbformat_minor": 5
}
